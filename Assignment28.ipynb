{
 "cells": [
  {
   "cell_type": "code",
   "execution_count": 1,
   "id": "26b8094f-f7cc-4a73-a0c6-f0afa7e1050c",
   "metadata": {},
   "outputs": [],
   "source": [
    "#Q.1\n",
    "# Statistics is a branch of mathematics that focuses on the collection, analysis,interpretation,presentation,and \n",
    "# organization of data. it involves various methods to gather data, summarize it, and draw meaningful conclusions from it."
   ]
  },
  {
   "cell_type": "code",
   "execution_count": 2,
   "id": "89db388c-127e-4c3d-bd7a-843d9524cf05",
   "metadata": {},
   "outputs": [],
   "source": [
    "# Q.2\n",
    "# Descriptive statistics\n",
    "# Descriptive statistics summarize and describe the features of a dataset. They provide simple summaries\n",
    "# about the sample and the measures \n",
    "# Measure of central tendency : Mean,Median, and Mode\n",
    "# Measure of dispersion:Range, variance and standard deviation\n",
    "# graphical representation : histogram , bar chart and scatter plots\n",
    "# Example :suppose you have the test scores of a class of students.Descriptive statistics can help\n",
    "# you find the average score(mean), the most common score(mode),and how spread out the scores are(standard deviation)\n",
    "\n",
    "# Inferential statistics\n",
    "# Inferential statistics make predictions or inferences about a population based on a sample of data.\n",
    "# They help in hypothesis testing,making predictions, and determining relationships between variables.\n",
    "# Hypothesis testing:t-test,chi_squared tests,and ANOVA\n",
    "# Confidence intervals: Estimating the range within which a population parameter lies\n",
    "# Regression Analysis :Understanding the relationship between variables\n",
    "# Example: If you want to know the average height of all students in a school, you can measure the heights\n",
    "# of a sample of students and use inferential statisics to estimate the average height of the entire student population."
   ]
  },
  {
   "cell_type": "code",
   "execution_count": 3,
   "id": "d9fb6027-66fa-443e-a2fa-3b5d0b0fe2dd",
   "metadata": {},
   "outputs": [],
   "source": [
    "# Q.3\n",
    "# Qualitative data\n",
    "# Qualitative data is categorical and describes qualities or characteristics\n",
    "# Nominal data: This type of data represents categories without any inherent order\n",
    "# Example: colors(red,blue,green) types of fruit(Apple , Banana , organe)\n",
    "# ordinal data this type of data represents categories with a meaningful order, but the intervals between the categories are not uniform\n",
    "# Example: survey rating (poor,fair,good,excellent) , Education levels (high school , bachelors masters, PHD)\n",
    "\n",
    "#  Quantitative data\n",
    "# Quantitative data is numerical and can be measured or counted.\n",
    "# Discrete data This type of data consists of distinct, seperate values.It is countable and often \n",
    "# represents whole numbers\n",
    "# Example: Number of students in a class, Number of cars in a parking lot\n",
    "# continuous data : This type of data can take any value within a given range and is measurable"
   ]
  },
  {
   "cell_type": "code",
   "execution_count": 4,
   "id": "1ded0799-1e5a-4365-b123-90e76b4591c5",
   "metadata": {},
   "outputs": [],
   "source": [
    "#Q.4\n",
    "#(1)Qualitative - ordinal\n",
    "#(2)Qualitative - nominal \n",
    "#(3)Quantitative - continuous\n",
    "#(4)Quantitative - Discrete"
   ]
  },
  {
   "cell_type": "code",
   "execution_count": 5,
   "id": "97b67bb0-6a2f-4ee0-bb2d-bd2f43d8bad7",
   "metadata": {},
   "outputs": [],
   "source": [
    "#Q.5\n",
    "# Nominal data: This type of data represents categories without any inherent order\n",
    "# Example: colors(red,blue,green) types of fruit(Apple , Banana , organe)\n",
    "# ordinal data this type of data represents categories with a meaningful order, but the intervals between the categories are not uniform\n",
    "# Example: survey rating (poor,fair,good,excellent) , Education levels (high school , bachelors masters, PHD)\n",
    "\n",
    "# Discrete data This type of data consists of distinct, seperate values.It is countable and often \n",
    "# represents whole numbers\n",
    "# Example: Number of students in a class, Number of cars in a parking lot\n",
    "# continuous data : This type of data can take any value within a given range and is measurable"
   ]
  },
  {
   "cell_type": "code",
   "execution_count": 6,
   "id": "7e388f54-983d-4bc5-894f-8543a84b4941",
   "metadata": {},
   "outputs": [
    {
     "data": {
      "text/plain": [
       "'Customer Gender (Nominal): Male, Female, Non-binary\\nSatisfaction Rating (Ordinal): Very Unsatisfied, Unsatisfied, Neutral, Satisfied, Very Satisfied\\nAge (Ratio): Measured in years\\nTemperature of the Room During Survey (Interval): Measured in Celsius'"
      ]
     },
     "execution_count": 6,
     "metadata": {},
     "output_type": "execute_result"
    }
   ],
   "source": [
    "#Q.6\n",
    "# The level of measurment is  crucial when analyzing data because it determins the types of statistical\n",
    "# analyses that are appropriate and the conclusions that can be drawn. different levels of measurment provide different amounts\n",
    "# of information and require different analytical techniques\n",
    "\"\"\"Customer Gender (Nominal): Male, Female, Non-binary\n",
    "Satisfaction Rating (Ordinal): Very Unsatisfied, Unsatisfied, Neutral, Satisfied, Very Satisfied\n",
    "Age (Ratio): Measured in years\n",
    "Temperature of the Room During Survey (Interval): Measured in Celsius\"\"\"\n"
   ]
  },
  {
   "cell_type": "code",
   "execution_count": 7,
   "id": "57fbd53e-054f-40d5-b157-80fe5bd33b83",
   "metadata": {},
   "outputs": [],
   "source": [
    "#Q.7 \n",
    "# Nominal data is categorical data that does not have any inherient order in the data\n",
    "# ordinal data is categorical data  that does have a inherent order depicting good to bad\n"
   ]
  },
  {
   "cell_type": "code",
   "execution_count": 8,
   "id": "fd05e0bb-fa57-4932-8991-14bb50d5c99f",
   "metadata": {},
   "outputs": [],
   "source": [
    "#Q.8\n",
    "# Box plot"
   ]
  },
  {
   "cell_type": "code",
   "execution_count": 9,
   "id": "a7dee61c-2505-4780-bd79-6f50ed9d2899",
   "metadata": {},
   "outputs": [],
   "source": [
    "#Q.9\n",
    "# Descriptive Statistics: Summarize and describe data (e.g., mean, median, mode).\n",
    "# Inferential Statistics: Make predictions and inferences about a population based on a sample (e.g., hypothesis testing, confidence intervals)."
   ]
  },
  {
   "cell_type": "code",
   "execution_count": null,
   "id": "855774a5-5219-41db-89ad-01b502431f35",
   "metadata": {},
   "outputs": [],
   "source": [
    "Measures of central tendency describe the center or typical value of a dataset. The three most common measures are:\n",
    "\n",
    "Mean (Average)\n",
    "Definition: The sum of all values divided by the number of values.\n",
    "Usage: The mean is useful for datasets without extreme outliers. For example, calculating the average test score of students in a class.\n",
    "Median\n",
    "Definition: The middle value when the data is arranged in ascending or descending order.\n",
    "Usage: The median is useful for skewed datasets or when there are outliers. For example, finding the median income in a neighborhood to understand the typical income level.\n",
    "Mode\n",
    "Definition: The most frequently occurring value in the dataset.\n",
    "Usage: The mode is useful for categorical data. For example, determining the most common shoe size sold in a store"
   ]
  }
 ],
 "metadata": {
  "kernelspec": {
   "display_name": "Python 3 (ipykernel)",
   "language": "python",
   "name": "python3"
  },
  "language_info": {
   "codemirror_mode": {
    "name": "ipython",
    "version": 3
   },
   "file_extension": ".py",
   "mimetype": "text/x-python",
   "name": "python",
   "nbconvert_exporter": "python",
   "pygments_lexer": "ipython3",
   "version": "3.11.3"
  }
 },
 "nbformat": 4,
 "nbformat_minor": 5
}
